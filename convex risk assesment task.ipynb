{
 "cells": [
  {
   "cell_type": "code",
   "execution_count": 1,
   "id": "259038f0",
   "metadata": {},
   "outputs": [],
   "source": [
    "# import the library\n",
    "import pandas as pd"
   ]
  },
  {
   "cell_type": "code",
   "execution_count": 2,
   "id": "0c15a139",
   "metadata": {},
   "outputs": [],
   "source": [
    "# loading the data from the excel file\n",
    "cleaner_trade = pd.read_excel(\"C:\\\\Users\\\\rithi\\\\Downloads\\\\clearer_trade_data.xlsx\", sheet_name = \"Sheet1\")\n",
    "internal_trade_data = pd.read_excel(\"C:\\\\Users\\\\rithi\\\\Downloads\\\\internal_trade_data.xlsx\", sheet_name = \"Sheet1\")"
   ]
  },
  {
   "cell_type": "code",
   "execution_count": 3,
   "id": "48fc01d4",
   "metadata": {},
   "outputs": [],
   "source": [
    "# changing the internal price data to float\n",
    "internal_trade_data.price_eur_per_mwh = internal_trade_data.price_eur_per_mwh.astype(float)"
   ]
  },
  {
   "cell_type": "markdown",
   "id": "0242a5da",
   "metadata": {},
   "source": [
    "Decomposition of the Quarterly Contract\n",
    "\n"
   ]
  },
  {
   "cell_type": "code",
   "execution_count": 4,
   "id": "9f8db03e",
   "metadata": {},
   "outputs": [],
   "source": [
    "Q225_break = float(internal_trade_data.quantity_mwh[3] / 3)"
   ]
  },
  {
   "cell_type": "markdown",
   "id": "8182fdf4",
   "metadata": {},
   "source": [
    "Net Internal Positions by Month\n"
   ]
  },
  {
   "cell_type": "code",
   "execution_count": null,
   "id": "870ab2dc",
   "metadata": {},
   "outputs": [],
   "source": [
    "#Computing Net Electricity sold\n",
    "outrightaddition = internal_trade_data.copy()\n",
    "outrightaddition.quantity_mwh[1]+=Q225_break\n",
    "outrightaddition.quantity_mwh[2]+=Q225_break\n",
    "outrightaddition"
   ]
  },
  {
   "cell_type": "code",
   "execution_count": 6,
   "id": "5151af4e",
   "metadata": {},
   "outputs": [],
   "source": [
    "# Weighted average of the price\n",
    "outrightprice1 = ((internal_trade_data.quantity_mwh[1] * internal_trade_data.price_eur_per_mwh[1])+ (Q225_break*internal_trade_data.price_eur_per_mwh[3]))/(internal_trade_data.quantity_mwh[1] + Q225_break)\n",
    "outrightprice2 = ((internal_trade_data.quantity_mwh[2] * internal_trade_data.price_eur_per_mwh[2])+ (Q225_break*internal_trade_data.price_eur_per_mwh[3]))/(internal_trade_data.quantity_mwh[2] + Q225_break)"
   ]
  },
  {
   "cell_type": "code",
   "execution_count": null,
   "id": "5a2c5c43",
   "metadata": {},
   "outputs": [],
   "source": [
    "# Upading the price variables\n",
    "outrightaddition.price_eur_per_mwh[1] = outrightprice1\n",
    "outrightaddition.price_eur_per_mwh[2] = outrightprice2\n",
    "outrightaddition"
   ]
  },
  {
   "cell_type": "code",
   "execution_count": 8,
   "id": "d6bce13d",
   "metadata": {},
   "outputs": [],
   "source": [
    "#Removing the outright quater for further calculation\n",
    "outrightaddition1 = outrightaddition.drop(3)"
   ]
  },
  {
   "cell_type": "markdown",
   "id": "b3ca8cb5",
   "metadata": {},
   "source": [
    "Finding the discrepency"
   ]
  },
  {
   "cell_type": "code",
   "execution_count": 9,
   "id": "c9fffb2f",
   "metadata": {},
   "outputs": [],
   "source": [
    "#step 1 - Adding the month of June into the internal dataset.\n",
    "new_row = pd.DataFrame([{\n",
    "    'trade_id' : 5,\n",
    "    'contract_type': 'Outright',\n",
    "    'contract_period': '2025-06',\n",
    "    'quantity_mwh': 100,\n",
    "    'price_eur_per_mwh': 33.0\n",
    "}])\n",
    "updatedoutright = pd.concat([outrightaddition1, new_row], ignore_index=True) "
   ]
  },
  {
   "cell_type": "code",
   "execution_count": 10,
   "id": "09cce57e",
   "metadata": {},
   "outputs": [
    {
     "name": "stdout",
     "output_type": "stream",
     "text": [
      "In the month 2025-03, the discrepancy in quantity is 0MWh and the price is 0.0 Euros\n",
      "In the month 2025-04, the discrepancy in quantity is -200MWh and the price is -0.33333333333333215 Euros\n",
      "In the month 2025-05, the discrepancy in quantity is -200MWh and the price is -0.2142857142857153 Euros\n",
      "In the month 2025-06, the discrepancy in quantity is -200MWh and the price is 0.0 Euros\n"
     ]
    }
   ],
   "source": [
    "# Step 2 - Calculation of Discrepency\n",
    "for i in range(4):\n",
    "    for j in range(4):\n",
    "        if updatedoutright.contract_period[i] == cleaner_trade.delivery_month[j]:\n",
    "            print(f\"In the month {updatedoutright.contract_period[i]}, the discrepancy in quantity is {updatedoutright.quantity_mwh[i]-cleaner_trade.quantity_mwh[j]}MWh and the price is {updatedoutright.price_eur_per_mwh[i]-cleaner_trade.price_eur_per_mwh[j]} Euros\")"
   ]
  }
 ],
 "metadata": {
  "kernelspec": {
   "display_name": "Python 3",
   "language": "python",
   "name": "python3"
  },
  "language_info": {
   "codemirror_mode": {
    "name": "ipython",
    "version": 3
   },
   "file_extension": ".py",
   "mimetype": "text/x-python",
   "name": "python",
   "nbconvert_exporter": "python",
   "pygments_lexer": "ipython3",
   "version": "3.13.4"
  }
 },
 "nbformat": 4,
 "nbformat_minor": 5
}
