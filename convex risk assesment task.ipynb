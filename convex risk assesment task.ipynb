{
 "cells": [
  {
   "cell_type": "code",
   "execution_count": 1,
   "id": "259038f0",
   "metadata": {},
   "outputs": [],
   "source": [
    "# import the library\n",
    "import pandas as pd"
   ]
  },
  {
   "cell_type": "code",
   "execution_count": 2,
   "id": "0c15a139",
   "metadata": {},
   "outputs": [],
   "source": [
    "# loading the data from the excel file\n",
    "cleaner_trade = pd.read_excel(\"C:\\\\Users\\\\rithi\\\\Downloads\\\\clearer_trade_data.xlsx\", sheet_name = \"Sheet1\")\n",
    "internal_trade_data = pd.read_excel(\"C:\\\\Users\\\\rithi\\\\Downloads\\\\internal_trade_data.xlsx\", sheet_name = \"Sheet1\")"
   ]
  },
  {
   "cell_type": "code",
   "execution_count": 3,
   "id": "48fc01d4",
   "metadata": {},
   "outputs": [],
   "source": [
    "# changing the internal price data to float\n",
    "internal_trade_data.price_eur_per_mwh = internal_trade_data.price_eur_per_mwh.astype(float)"
   ]
  },
  {
   "cell_type": "markdown",
   "id": "0242a5da",
   "metadata": {},
   "source": [
    "Dividing the Quaterly contract equally across three \n"
   ]
  },
  {
   "cell_type": "code",
   "execution_count": 4,
   "id": "9f8db03e",
   "metadata": {},
   "outputs": [],
   "source": [
    "Q225_break = float(internal_trade_data.quantity_mwh[3] / 3)"
   ]
  },
  {
   "cell_type": "code",
   "execution_count": 5,
   "id": "870ab2dc",
   "metadata": {},
   "outputs": [
    {
     "name": "stderr",
     "output_type": "stream",
     "text": [
      "C:\\Users\\rithi\\AppData\\Local\\Temp\\ipykernel_22112\\792803375.py:3: FutureWarning: ChainedAssignmentError: behaviour will change in pandas 3.0!\n",
      "You are setting values through chained assignment. Currently this works in certain cases, but when using Copy-on-Write (which will become the default behaviour in pandas 3.0) this will never work to update the original DataFrame or Series, because the intermediate object on which we are setting values will behave as a copy.\n",
      "A typical example is when you are setting values in a column of a DataFrame, like:\n",
      "\n",
      "df[\"col\"][row_indexer] = value\n",
      "\n",
      "Use `df.loc[row_indexer, \"col\"] = values` instead, to perform the assignment in a single step and ensure this keeps updating the original `df`.\n",
      "\n",
      "See the caveats in the documentation: https://pandas.pydata.org/pandas-docs/stable/user_guide/indexing.html#returning-a-view-versus-a-copy\n",
      "\n",
      "  outrightaddition.quantity_mwh[1]+=Q225_break\n",
      "C:\\Users\\rithi\\AppData\\Local\\Temp\\ipykernel_22112\\792803375.py:3: SettingWithCopyWarning: \n",
      "A value is trying to be set on a copy of a slice from a DataFrame\n",
      "\n",
      "See the caveats in the documentation: https://pandas.pydata.org/pandas-docs/stable/user_guide/indexing.html#returning-a-view-versus-a-copy\n",
      "  outrightaddition.quantity_mwh[1]+=Q225_break\n",
      "C:\\Users\\rithi\\AppData\\Local\\Temp\\ipykernel_22112\\792803375.py:4: FutureWarning: ChainedAssignmentError: behaviour will change in pandas 3.0!\n",
      "You are setting values through chained assignment. Currently this works in certain cases, but when using Copy-on-Write (which will become the default behaviour in pandas 3.0) this will never work to update the original DataFrame or Series, because the intermediate object on which we are setting values will behave as a copy.\n",
      "A typical example is when you are setting values in a column of a DataFrame, like:\n",
      "\n",
      "df[\"col\"][row_indexer] = value\n",
      "\n",
      "Use `df.loc[row_indexer, \"col\"] = values` instead, to perform the assignment in a single step and ensure this keeps updating the original `df`.\n",
      "\n",
      "See the caveats in the documentation: https://pandas.pydata.org/pandas-docs/stable/user_guide/indexing.html#returning-a-view-versus-a-copy\n",
      "\n",
      "  outrightaddition.quantity_mwh[2]+=Q225_break\n",
      "C:\\Users\\rithi\\AppData\\Local\\Temp\\ipykernel_22112\\792803375.py:4: SettingWithCopyWarning: \n",
      "A value is trying to be set on a copy of a slice from a DataFrame\n",
      "\n",
      "See the caveats in the documentation: https://pandas.pydata.org/pandas-docs/stable/user_guide/indexing.html#returning-a-view-versus-a-copy\n",
      "  outrightaddition.quantity_mwh[2]+=Q225_break\n"
     ]
    },
    {
     "data": {
      "text/html": [
       "<div>\n",
       "<style scoped>\n",
       "    .dataframe tbody tr th:only-of-type {\n",
       "        vertical-align: middle;\n",
       "    }\n",
       "\n",
       "    .dataframe tbody tr th {\n",
       "        vertical-align: top;\n",
       "    }\n",
       "\n",
       "    .dataframe thead th {\n",
       "        text-align: right;\n",
       "    }\n",
       "</style>\n",
       "<table border=\"1\" class=\"dataframe\">\n",
       "  <thead>\n",
       "    <tr style=\"text-align: right;\">\n",
       "      <th></th>\n",
       "      <th>trade_id</th>\n",
       "      <th>contract_type</th>\n",
       "      <th>contract_period</th>\n",
       "      <th>quantity_mwh</th>\n",
       "      <th>price_eur_per_mwh</th>\n",
       "    </tr>\n",
       "  </thead>\n",
       "  <tbody>\n",
       "    <tr>\n",
       "      <th>0</th>\n",
       "      <td>1</td>\n",
       "      <td>Outright</td>\n",
       "      <td>2025-03</td>\n",
       "      <td>100</td>\n",
       "      <td>30.0</td>\n",
       "    </tr>\n",
       "    <tr>\n",
       "      <th>1</th>\n",
       "      <td>2</td>\n",
       "      <td>Outright</td>\n",
       "      <td>2025-04</td>\n",
       "      <td>300</td>\n",
       "      <td>31.0</td>\n",
       "    </tr>\n",
       "    <tr>\n",
       "      <th>2</th>\n",
       "      <td>3</td>\n",
       "      <td>Outright</td>\n",
       "      <td>2025-05</td>\n",
       "      <td>350</td>\n",
       "      <td>32.0</td>\n",
       "    </tr>\n",
       "    <tr>\n",
       "      <th>3</th>\n",
       "      <td>4</td>\n",
       "      <td>Outright Quarter</td>\n",
       "      <td>Q225</td>\n",
       "      <td>300</td>\n",
       "      <td>33.0</td>\n",
       "    </tr>\n",
       "  </tbody>\n",
       "</table>\n",
       "</div>"
      ],
      "text/plain": [
       "   trade_id     contract_type contract_period  quantity_mwh  price_eur_per_mwh\n",
       "0         1          Outright         2025-03           100               30.0\n",
       "1         2          Outright         2025-04           300               31.0\n",
       "2         3          Outright         2025-05           350               32.0\n",
       "3         4  Outright Quarter            Q225           300               33.0"
      ]
     },
     "execution_count": 5,
     "metadata": {},
     "output_type": "execute_result"
    }
   ],
   "source": [
    "#Computing Outrightaddition\n",
    "outrightaddition = internal_trade_data.copy()\n",
    "outrightaddition.quantity_mwh[1]+=Q225_break\n",
    "outrightaddition.quantity_mwh[2]+=Q225_break\n",
    "outrightaddition"
   ]
  },
  {
   "cell_type": "code",
   "execution_count": 6,
   "id": "5151af4e",
   "metadata": {},
   "outputs": [],
   "source": [
    "# Weighted average of the price\n",
    "outrightprice1 = ((internal_trade_data.quantity_mwh[1] * internal_trade_data.price_eur_per_mwh[1])+ (Q225_break*internal_trade_data.price_eur_per_mwh[3]))/(internal_trade_data.quantity_mwh[1] + Q225_break)\n",
    "outrightprice2 = ((internal_trade_data.quantity_mwh[2] * internal_trade_data.price_eur_per_mwh[2])+ (Q225_break*internal_trade_data.price_eur_per_mwh[3]))/(internal_trade_data.quantity_mwh[2] + Q225_break)"
   ]
  },
  {
   "cell_type": "markdown",
   "id": "1f82f257",
   "metadata": {},
   "source": [
    "changing the price per month to the calculated price "
   ]
  },
  {
   "cell_type": "code",
   "execution_count": 7,
   "id": "5a2c5c43",
   "metadata": {},
   "outputs": [
    {
     "name": "stderr",
     "output_type": "stream",
     "text": [
      "C:\\Users\\rithi\\AppData\\Local\\Temp\\ipykernel_22112\\1876285025.py:2: FutureWarning: ChainedAssignmentError: behaviour will change in pandas 3.0!\n",
      "You are setting values through chained assignment. Currently this works in certain cases, but when using Copy-on-Write (which will become the default behaviour in pandas 3.0) this will never work to update the original DataFrame or Series, because the intermediate object on which we are setting values will behave as a copy.\n",
      "A typical example is when you are setting values in a column of a DataFrame, like:\n",
      "\n",
      "df[\"col\"][row_indexer] = value\n",
      "\n",
      "Use `df.loc[row_indexer, \"col\"] = values` instead, to perform the assignment in a single step and ensure this keeps updating the original `df`.\n",
      "\n",
      "See the caveats in the documentation: https://pandas.pydata.org/pandas-docs/stable/user_guide/indexing.html#returning-a-view-versus-a-copy\n",
      "\n",
      "  outrightaddition.price_eur_per_mwh[1] = outrightprice1\n",
      "C:\\Users\\rithi\\AppData\\Local\\Temp\\ipykernel_22112\\1876285025.py:2: SettingWithCopyWarning: \n",
      "A value is trying to be set on a copy of a slice from a DataFrame\n",
      "\n",
      "See the caveats in the documentation: https://pandas.pydata.org/pandas-docs/stable/user_guide/indexing.html#returning-a-view-versus-a-copy\n",
      "  outrightaddition.price_eur_per_mwh[1] = outrightprice1\n",
      "C:\\Users\\rithi\\AppData\\Local\\Temp\\ipykernel_22112\\1876285025.py:3: FutureWarning: ChainedAssignmentError: behaviour will change in pandas 3.0!\n",
      "You are setting values through chained assignment. Currently this works in certain cases, but when using Copy-on-Write (which will become the default behaviour in pandas 3.0) this will never work to update the original DataFrame or Series, because the intermediate object on which we are setting values will behave as a copy.\n",
      "A typical example is when you are setting values in a column of a DataFrame, like:\n",
      "\n",
      "df[\"col\"][row_indexer] = value\n",
      "\n",
      "Use `df.loc[row_indexer, \"col\"] = values` instead, to perform the assignment in a single step and ensure this keeps updating the original `df`.\n",
      "\n",
      "See the caveats in the documentation: https://pandas.pydata.org/pandas-docs/stable/user_guide/indexing.html#returning-a-view-versus-a-copy\n",
      "\n",
      "  outrightaddition.price_eur_per_mwh[2] = outrightprice2\n",
      "C:\\Users\\rithi\\AppData\\Local\\Temp\\ipykernel_22112\\1876285025.py:3: SettingWithCopyWarning: \n",
      "A value is trying to be set on a copy of a slice from a DataFrame\n",
      "\n",
      "See the caveats in the documentation: https://pandas.pydata.org/pandas-docs/stable/user_guide/indexing.html#returning-a-view-versus-a-copy\n",
      "  outrightaddition.price_eur_per_mwh[2] = outrightprice2\n"
     ]
    },
    {
     "data": {
      "text/html": [
       "<div>\n",
       "<style scoped>\n",
       "    .dataframe tbody tr th:only-of-type {\n",
       "        vertical-align: middle;\n",
       "    }\n",
       "\n",
       "    .dataframe tbody tr th {\n",
       "        vertical-align: top;\n",
       "    }\n",
       "\n",
       "    .dataframe thead th {\n",
       "        text-align: right;\n",
       "    }\n",
       "</style>\n",
       "<table border=\"1\" class=\"dataframe\">\n",
       "  <thead>\n",
       "    <tr style=\"text-align: right;\">\n",
       "      <th></th>\n",
       "      <th>trade_id</th>\n",
       "      <th>contract_type</th>\n",
       "      <th>contract_period</th>\n",
       "      <th>quantity_mwh</th>\n",
       "      <th>price_eur_per_mwh</th>\n",
       "    </tr>\n",
       "  </thead>\n",
       "  <tbody>\n",
       "    <tr>\n",
       "      <th>0</th>\n",
       "      <td>1</td>\n",
       "      <td>Outright</td>\n",
       "      <td>2025-03</td>\n",
       "      <td>100</td>\n",
       "      <td>30.000000</td>\n",
       "    </tr>\n",
       "    <tr>\n",
       "      <th>1</th>\n",
       "      <td>2</td>\n",
       "      <td>Outright</td>\n",
       "      <td>2025-04</td>\n",
       "      <td>300</td>\n",
       "      <td>31.666667</td>\n",
       "    </tr>\n",
       "    <tr>\n",
       "      <th>2</th>\n",
       "      <td>3</td>\n",
       "      <td>Outright</td>\n",
       "      <td>2025-05</td>\n",
       "      <td>350</td>\n",
       "      <td>32.285714</td>\n",
       "    </tr>\n",
       "    <tr>\n",
       "      <th>3</th>\n",
       "      <td>4</td>\n",
       "      <td>Outright Quarter</td>\n",
       "      <td>Q225</td>\n",
       "      <td>300</td>\n",
       "      <td>33.000000</td>\n",
       "    </tr>\n",
       "  </tbody>\n",
       "</table>\n",
       "</div>"
      ],
      "text/plain": [
       "   trade_id     contract_type contract_period  quantity_mwh  price_eur_per_mwh\n",
       "0         1          Outright         2025-03           100          30.000000\n",
       "1         2          Outright         2025-04           300          31.666667\n",
       "2         3          Outright         2025-05           350          32.285714\n",
       "3         4  Outright Quarter            Q225           300          33.000000"
      ]
     },
     "execution_count": 7,
     "metadata": {},
     "output_type": "execute_result"
    }
   ],
   "source": [
    "# Upading the price variables\n",
    "outrightaddition.price_eur_per_mwh[1] = outrightprice1\n",
    "outrightaddition.price_eur_per_mwh[2] = outrightprice2\n",
    "outrightaddition"
   ]
  },
  {
   "cell_type": "code",
   "execution_count": 8,
   "id": "d6bce13d",
   "metadata": {},
   "outputs": [],
   "source": [
    "#Removing the outright quater for further calculation\n",
    "outrightaddition1 = outrightaddition.drop(3)"
   ]
  },
  {
   "cell_type": "markdown",
   "id": "b3ca8cb5",
   "metadata": {},
   "source": [
    "Finding the discrepency"
   ]
  },
  {
   "cell_type": "code",
   "execution_count": 9,
   "id": "c9fffb2f",
   "metadata": {},
   "outputs": [],
   "source": [
    "#step 1 - Adding the month of June into the internal dataset.\n",
    "new_row = pd.DataFrame([{\n",
    "    'trade_id' : 5,\n",
    "    'contract_type': 'Outright',\n",
    "    'contract_period': '2025-06',\n",
    "    'quantity_mwh': 100,\n",
    "    'price_eur_per_mwh': 33.0\n",
    "}])\n",
    "updatedoutright = pd.concat([outrightaddition1, new_row], ignore_index=True) "
   ]
  },
  {
   "cell_type": "code",
   "execution_count": 10,
   "id": "09cce57e",
   "metadata": {},
   "outputs": [
    {
     "name": "stdout",
     "output_type": "stream",
     "text": [
      "In the month 2025-03, the discrepancy in quantity is 0MWh and the price is 0.0 Euros\n",
      "In the month 2025-04, the discrepancy in quantity is -200MWh and the price is -0.33333333333333215 Euros\n",
      "In the month 2025-05, the discrepancy in quantity is -200MWh and the price is -0.2142857142857153 Euros\n",
      "In the month 2025-06, the discrepancy in quantity is -200MWh and the price is 0.0 Euros\n"
     ]
    }
   ],
   "source": [
    "# Step 2 - Calculation of Discrepency\n",
    "for i in range(4):\n",
    "    for j in range(4):\n",
    "        if updatedoutright.contract_period[i] == cleaner_trade.delivery_month[j]:\n",
    "            print(f\"In the month {updatedoutright.contract_period[i]}, the discrepancy in quantity is {updatedoutright.quantity_mwh[i]-cleaner_trade.quantity_mwh[j]}MWh and the price is {updatedoutright.price_eur_per_mwh[i]-cleaner_trade.price_eur_per_mwh[j]} Euros\")"
   ]
  }
 ],
 "metadata": {
  "kernelspec": {
   "display_name": "Python 3",
   "language": "python",
   "name": "python3"
  },
  "language_info": {
   "codemirror_mode": {
    "name": "ipython",
    "version": 3
   },
   "file_extension": ".py",
   "mimetype": "text/x-python",
   "name": "python",
   "nbconvert_exporter": "python",
   "pygments_lexer": "ipython3",
   "version": "3.13.4"
  }
 },
 "nbformat": 4,
 "nbformat_minor": 5
}
